{
 "cells": [
  {
   "cell_type": "code",
   "id": "initial_id",
   "metadata": {
    "collapsed": true,
    "ExecuteTime": {
     "end_time": "2025-01-26T06:37:34.071835Z",
     "start_time": "2025-01-26T06:37:31.750505Z"
    }
   },
   "source": [
    "import os\n",
    "from gns_utils import create_experiment_bash_with"
   ],
   "outputs": [],
   "execution_count": 1
  },
  {
   "metadata": {
    "ExecuteTime": {
     "end_time": "2025-01-26T06:39:32.346086Z",
     "start_time": "2025-01-26T06:39:32.339454Z"
    }
   },
   "cell_type": "code",
   "source": [
    "def compare_estimation_parameters(models):\n",
    "    pass"
   ],
   "id": "160e2ac28884a627",
   "outputs": [],
   "execution_count": 2
  },
  {
   "metadata": {},
   "cell_type": "code",
   "outputs": [],
   "execution_count": null,
   "source": "",
   "id": "da91544f6ca77684"
  }
 ],
 "metadata": {
  "kernelspec": {
   "display_name": "Python 3",
   "language": "python",
   "name": "python3"
  },
  "language_info": {
   "codemirror_mode": {
    "name": "ipython",
    "version": 2
   },
   "file_extension": ".py",
   "mimetype": "text/x-python",
   "name": "python",
   "nbconvert_exporter": "python",
   "pygments_lexer": "ipython2",
   "version": "2.7.6"
  }
 },
 "nbformat": 4,
 "nbformat_minor": 5
}
