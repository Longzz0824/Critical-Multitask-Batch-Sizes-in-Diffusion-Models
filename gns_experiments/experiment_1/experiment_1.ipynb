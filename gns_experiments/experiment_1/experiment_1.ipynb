{
 "cells": [
  {
   "cell_type": "code",
   "id": "initial_id",
   "metadata": {
    "collapsed": true,
    "ExecuteTime": {
     "end_time": "2025-01-26T06:37:34.071835Z",
     "start_time": "2025-01-26T06:37:31.750505Z"
    }
   },
   "source": [
    "import os\n",
    "from gns_utils import create_experiment_bash_with"
   ],
   "outputs": [],
   "execution_count": 1
  },
  {
   "metadata": {
    "ExecuteTime": {
     "end_time": "2025-01-26T06:39:32.346086Z",
     "start_time": "2025-01-26T06:39:32.339454Z"
    }
   },
   "cell_type": "code",
   "source": [
    "CKPT_DIR = \"../../checkpoints\"\n",
    "\n",
    "def compare_estimation_parameters(models: [str], Bb_ratio: int, b_min=20, B_max=10_000):\n",
    "    for model in models:\n",
    "        path = f\"{CKPT_DIR}/{model}\" \n",
    "        assert os.path.exists(path), f\"Checkpoint {path} does not exist!\"\n",
    "        b_small = b\n",
    "        while b_s:\n",
    "            create_experiment_bash_with(f\"-b {b} -B {B}\")"
   ],
   "id": "160e2ac28884a627",
   "outputs": [],
   "execution_count": 2
  },
  {
   "metadata": {},
   "cell_type": "code",
   "outputs": [],
   "execution_count": null,
   "source": "",
   "id": "da91544f6ca77684"
  }
 ],
 "metadata": {
  "kernelspec": {
   "display_name": "Python 3",
   "language": "python",
   "name": "python3"
  },
  "language_info": {
   "codemirror_mode": {
    "name": "ipython",
    "version": 2
   },
   "file_extension": ".py",
   "mimetype": "text/x-python",
   "name": "python",
   "nbconvert_exporter": "python",
   "pygments_lexer": "ipython2",
   "version": "2.7.6"
  }
 },
 "nbformat": 4,
 "nbformat_minor": 5
}
