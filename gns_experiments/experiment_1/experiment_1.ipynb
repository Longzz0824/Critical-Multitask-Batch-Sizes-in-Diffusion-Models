{
 "cells": [
  {
   "cell_type": "code",
   "id": "initial_id",
   "metadata": {
    "collapsed": true,
    "ExecuteTime": {
     "end_time": "2025-01-26T06:37:34.071835Z",
     "start_time": "2025-01-26T06:37:31.750505Z"
    }
   },
   "source": [
    "import os\n",
    "from gns_experiments import compare_estimation_parameters"
   ],
   "outputs": [],
   "execution_count": 1
  },
  {
   "metadata": {
    "ExecuteTime": {
     "end_time": "2025-01-26T06:39:32.346086Z",
     "start_time": "2025-01-26T06:39:32.339454Z"
    }
   },
   "cell_type": "code",
   "source": "",
   "id": "160e2ac28884a627",
   "outputs": [],
   "execution_count": 2
  },
  {
   "metadata": {
    "ExecuteTime": {
     "end_time": "2025-01-27T01:15:40.140741Z",
     "start_time": "2025-01-27T01:15:40.134412Z"
    }
   },
   "cell_type": "code",
   "source": "ratios = (5, 10, 100)\n",
   "id": "da91544f6ca77684",
   "outputs": [
    {
     "data": {
      "text/plain": [
       "False"
      ]
     },
     "execution_count": 6,
     "metadata": {},
     "output_type": "execute_result"
    }
   ],
   "execution_count": 6
  },
  {
   "metadata": {},
   "cell_type": "code",
   "outputs": [],
   "execution_count": null,
   "source": "",
   "id": "6661f14411f98578"
  }
 ],
 "metadata": {
  "kernelspec": {
   "display_name": "Python 3",
   "language": "python",
   "name": "python3"
  },
  "language_info": {
   "codemirror_mode": {
    "name": "ipython",
    "version": 2
   },
   "file_extension": ".py",
   "mimetype": "text/x-python",
   "name": "python",
   "nbconvert_exporter": "python",
   "pygments_lexer": "ipython2",
   "version": "2.7.6"
  }
 },
 "nbformat": 4,
 "nbformat_minor": 5
}
