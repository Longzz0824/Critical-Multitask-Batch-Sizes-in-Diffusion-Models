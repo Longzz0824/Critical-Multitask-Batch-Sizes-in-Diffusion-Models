{
 "cells": [
  {
   "metadata": {
    "ExecuteTime": {
     "end_time": "2025-01-26T02:50:48.663673Z",
     "start_time": "2025-01-26T02:50:46.519069Z"
    }
   },
   "cell_type": "code",
   "source": [
    "import os\n",
    "import torch\n",
    "\n",
    "from gns_utils import create_experiment_bash_with"
   ],
   "id": "a910373ef12856e9",
   "outputs": [],
   "execution_count": 1
  },
  {
   "metadata": {},
   "cell_type": "markdown",
   "source": "## 1. Create the experiment",
   "id": "144049f1be8cf5f4"
  },
  {
   "metadata": {},
   "cell_type": "code",
   "outputs": [],
   "execution_count": null,
   "source": [
    "def compare_models_with_time_intervals(n_intervals: int = 10,\n",
    "                                       shell_name: str = \"run_experiment.sh\",\n",
    "                                       n_steps: int = 1000,\n",
    "                                       **kwargs\n",
    "                                       ):\n",
    "    if os.path.exists(shell_name):\n",
    "        os.remove(shell_name)\n",
    "        print(f\"{shell_name} recreated !\")\n",
    "    \n",
    "    other_args = \" \" + f\" \".join([f\"--{k} {v}\" for k, v in kwargs.items()])\n",
    "    models = sorted(os.listdir(\"../../checkpoints\"))\n",
    "    timesteps = [\n",
    "        (i, i+(n_steps // n_intervals)) if i==0 else (i+1, i+(n_steps // n_intervals)) \n",
    "        for i in range(0, n_steps, n_steps // n_intervals)\n",
    "    ]\n",
    "    \n",
    "\n",
    "    expr_count = 0\n",
    "    for model in models:\n",
    "        for (t_min, t_max) in timesteps:\n",
    "            arguments = f\"--model {model} --t_min {t_min} --t_max {t_max} -acc -nw -\" + other_args\n",
    "            create_experiment_bash_with(args=arguments)\n",
    "            expr_count += 1\n",
    "            \n",
    "    print(f\"Done! Total experiments: {expr_count}\")"
   ],
   "id": "b2e4bf569cab4ce7"
  },
  {
   "metadata": {},
   "cell_type": "code",
   "outputs": [],
   "execution_count": null,
   "source": "compare_models_with_time_intervals(n_intervals=10, )",
   "id": "e770141dd27ae0a1"
  },
  {
   "metadata": {},
   "cell_type": "code",
   "outputs": [],
   "execution_count": null,
   "source": "",
   "id": "13c008abb71d9ef4"
  }
 ],
 "metadata": {
  "kernelspec": {
   "display_name": "Python 3",
   "language": "python",
   "name": "python3"
  },
  "language_info": {
   "codemirror_mode": {
    "name": "ipython",
    "version": 2
   },
   "file_extension": ".py",
   "mimetype": "text/x-python",
   "name": "python",
   "nbconvert_exporter": "python",
   "pygments_lexer": "ipython2",
   "version": "2.7.6"
  }
 },
 "nbformat": 4,
 "nbformat_minor": 5
}
