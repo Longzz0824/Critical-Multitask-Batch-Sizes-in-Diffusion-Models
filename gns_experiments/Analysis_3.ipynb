{
 "cells": [
  {
   "cell_type": "code",
   "id": "initial_id",
   "metadata": {
    "collapsed": true,
    "ExecuteTime": {
     "end_time": "2025-01-30T03:48:02.071792Z",
     "start_time": "2025-01-30T03:48:00.256514Z"
    }
   },
   "source": [
    "import os\n",
    "from pathlib import Path\n",
    "from datetime import datetime\n",
    "\n",
    "import numpy as np\n",
    "import pandas as pd\n",
    "import matplotlib.pyplot as plt\n",
    "\n",
    "from gns_utils import split_dataframe, csv_log_to_dataframe"
   ],
   "outputs": [],
   "execution_count": 1
  },
  {
   "metadata": {
    "ExecuteTime": {
     "end_time": "2025-01-30T03:48:02.074529Z",
     "start_time": "2025-01-30T03:48:02.072761Z"
    }
   },
   "cell_type": "code",
   "source": [
    "pd.options.mode.chained_assignment = None\n",
    "DATA_DIR = Path(\"3_time_intervals/results\")\n",
    "VIS_DIR = Path(\"3_time_intervals/visuals\")"
   ],
   "id": "b42962ba6d5acc53",
   "outputs": [],
   "execution_count": 2
  },
  {
   "metadata": {},
   "cell_type": "markdown",
   "source": "## Collect all experiment results",
   "id": "4eafd73ba1faa074"
  },
  {
   "metadata": {
    "ExecuteTime": {
     "end_time": "2025-01-30T03:48:03.248604Z",
     "start_time": "2025-01-30T03:48:03.246153Z"
    }
   },
   "cell_type": "code",
   "source": "## TODO:",
   "id": "90d3e858d8a6bfec",
   "outputs": [],
   "execution_count": 3
  },
  {
   "metadata": {},
   "cell_type": "code",
   "outputs": [],
   "execution_count": null,
   "source": "",
   "id": "f0f391d5fa07e02"
  }
 ],
 "metadata": {
  "kernelspec": {
   "display_name": "Python 3",
   "language": "python",
   "name": "python3"
  },
  "language_info": {
   "codemirror_mode": {
    "name": "ipython",
    "version": 2
   },
   "file_extension": ".py",
   "mimetype": "text/x-python",
   "name": "python",
   "nbconvert_exporter": "python",
   "pygments_lexer": "ipython2",
   "version": "2.7.6"
  }
 },
 "nbformat": 4,
 "nbformat_minor": 5
}
