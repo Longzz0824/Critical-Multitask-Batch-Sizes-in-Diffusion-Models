{
 "cells": [
  {
   "metadata": {
    "ExecuteTime": {
     "end_time": "2025-01-26T21:24:55.904316Z",
     "start_time": "2025-01-26T21:24:53.543770Z"
    }
   },
   "cell_type": "code",
   "source": [
    "import os\n",
    "from gns_experiments import compare_models_with_time_intervals"
   ],
   "id": "a910373ef12856e9",
   "outputs": [],
   "execution_count": 1
  },
  {
   "metadata": {},
   "cell_type": "markdown",
   "source": "## 1. Create experiment shells",
   "id": "144049f1be8cf5f4"
  },
  {
   "metadata": {
    "ExecuteTime": {
     "end_time": "2025-01-26T21:24:57.332074Z",
     "start_time": "2025-01-26T21:24:57.323278Z"
    }
   },
   "cell_type": "code",
   "source": [
    "models = sorted(os.listdir(\"../../checkpoints\"))\n",
    "models"
   ],
   "id": "e770141dd27ae0a1",
   "outputs": [
    {
     "data": {
      "text/plain": [
       "['0010000.pt', '0020000.pt', '0700000.pt', '0750000.pt']"
      ]
     },
     "execution_count": 3,
     "metadata": {},
     "output_type": "execute_result"
    }
   ],
   "execution_count": 3
  },
  {
   "metadata": {
    "ExecuteTime": {
     "end_time": "2025-01-26T21:24:57.851710Z",
     "start_time": "2025-01-26T21:24:57.846195Z"
    }
   },
   "cell_type": "code",
   "source": [
    "for i in (2, 5, 10):\n",
    "    experiment_name = f\"all_models_{i}_intervals\"\n",
    "    compare_models_with_time_intervals(name=experiment_name, n_intervals=i, models=models)"
   ],
   "id": "4bd69bcd2ac6867f",
   "outputs": [
    {
     "name": "stdout",
     "output_type": "stream",
     "text": [
      "OVERWRITTEN: all_models_2_intervals.sh\n",
      "Created all_models_2_intervals.sh !\n",
      "\n",
      "8 experiments.\n",
      "Execute in the root-dir using GPUs:\n",
      "$ bash gns_experiments/experiment_2/all_models_2_intervals.sh\n",
      "------------------------------------------\n",
      "\n",
      "OVERWRITTEN: all_models_5_intervals.sh\n",
      "Created all_models_5_intervals.sh !\n",
      "\n",
      "20 experiments.\n",
      "Execute in the root-dir using GPUs:\n",
      "$ bash gns_experiments/experiment_2/all_models_5_intervals.sh\n",
      "------------------------------------------\n",
      "\n",
      "OVERWRITTEN: all_models_10_intervals.sh\n",
      "Created all_models_10_intervals.sh !\n",
      "\n",
      "40 experiments.\n",
      "Execute in the root-dir using GPUs:\n",
      "$ bash gns_experiments/experiment_2/all_models_10_intervals.sh\n",
      "------------------------------------------\n",
      "\n"
     ]
    }
   ],
   "execution_count": 4
  },
  {
   "metadata": {
    "ExecuteTime": {
     "end_time": "2025-01-26T21:25:00.139245Z",
     "start_time": "2025-01-26T21:25:00.132035Z"
    }
   },
   "cell_type": "code",
   "source": [
    "n_steps = 1000\n",
    "n_intervals = 3\n",
    "\n",
    "timesteps = [\n",
    "        (i, i+(n_steps // n_intervals)) if i==0 else (i+1, i+(n_steps // n_intervals)) \n",
    "        for i in range(0, n_steps, n_steps // n_intervals)\n",
    "    ]\n",
    "timesteps"
   ],
   "id": "614fc2bc598b282b",
   "outputs": [
    {
     "data": {
      "text/plain": [
       "[(0, 333), (334, 666), (667, 999), (1000, 1332)]"
      ]
     },
     "execution_count": 5,
     "metadata": {},
     "output_type": "execute_result"
    }
   ],
   "execution_count": 5
  },
  {
   "metadata": {},
   "cell_type": "code",
   "outputs": [],
   "execution_count": null,
   "source": "",
   "id": "296cf27ff1fa161c"
  }
 ],
 "metadata": {
  "kernelspec": {
   "display_name": "Python 3",
   "language": "python",
   "name": "python3"
  },
  "language_info": {
   "codemirror_mode": {
    "name": "ipython",
    "version": 2
   },
   "file_extension": ".py",
   "mimetype": "text/x-python",
   "name": "python",
   "nbconvert_exporter": "python",
   "pygments_lexer": "ipython2",
   "version": "2.7.6"
  }
 },
 "nbformat": 4,
 "nbformat_minor": 5
}
