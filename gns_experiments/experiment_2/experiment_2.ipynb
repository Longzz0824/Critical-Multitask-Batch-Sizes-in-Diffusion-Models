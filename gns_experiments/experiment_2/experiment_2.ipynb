{
 "cells": [
  {
   "metadata": {
    "ExecuteTime": {
     "end_time": "2025-01-26T19:25:30.421607Z",
     "start_time": "2025-01-26T19:25:28.144213Z"
    }
   },
   "cell_type": "code",
   "source": [
    "import os\n",
    "from gns_utils import create_experiment_bash_with"
   ],
   "id": "a910373ef12856e9",
   "outputs": [],
   "execution_count": 1
  },
  {
   "metadata": {},
   "cell_type": "markdown",
   "source": "## 1. Create experiment shells",
   "id": "144049f1be8cf5f4"
  },
  {
   "metadata": {
    "ExecuteTime": {
     "end_time": "2025-01-26T19:28:05.703799Z",
     "start_time": "2025-01-26T19:28:05.690951Z"
    }
   },
   "cell_type": "code",
   "source": [
    "## Experiment method\n",
    "def compare_models_with_time_intervals(\n",
    "        name: str,\n",
    "        n_intervals: int,\n",
    "        models: [str],\n",
    "        n_steps: int = 1000,\n",
    "        **additional_args\n",
    "    ):\n",
    "    shell_name = name + \".sh\"\n",
    "    csv_name = name + \".csv\"\n",
    "    if os.path.exists(shell_name):\n",
    "        os.remove(shell_name)\n",
    "        print(f\"OVERWRITTEN: {shell_name}\")\n",
    "    if os.path.exists(csv_name):\n",
    "        os.remove(csv_name)\n",
    "        print(f\"OVERWRITTEN: {csv_name}\")\n",
    "        \n",
    "    other_args = f\"--csv_path {csv_name} \" + f\" \".join([f\"--{k} {v}\" for k, v in additional_args.items()])\n",
    "    timesteps = [\n",
    "        (i, i+(n_steps // n_intervals)) if i==0 else (i+1, i+(n_steps // n_intervals)) \n",
    "        for i in range(0, n_steps, n_steps // n_intervals)\n",
    "    ]\n",
    "    expr_count = 0\n",
    "    for model in models:\n",
    "        for (t_min, t_max) in timesteps:\n",
    "            arguments = f\"--model {model} --t_min {t_min} --t_max {t_max} -acc -nw \" + other_args\n",
    "            create_experiment_bash_with(args=arguments, bash_file=shell_name)\n",
    "            expr_count += 1\n",
    "            \n",
    "    print(f\"{expr_count} experiments.\")\n",
    "    print(f\"Execute in the root-dir using GPUs:\")\n",
    "    print(f\"$ bash gns_experiments/experiment_2/{shell_name}\")\n",
    "    print(\"------------------------------------------\\n\")"
   ],
   "id": "b2e4bf569cab4ce7",
   "outputs": [],
   "execution_count": 5
  },
  {
   "metadata": {
    "ExecuteTime": {
     "end_time": "2025-01-26T19:28:06.333726Z",
     "start_time": "2025-01-26T19:28:06.327279Z"
    }
   },
   "cell_type": "code",
   "source": [
    "models = sorted(os.listdir(\"../../checkpoints\"))\n",
    "models"
   ],
   "id": "e770141dd27ae0a1",
   "outputs": [
    {
     "data": {
      "text/plain": [
       "['0010000.pt', '0020000.pt', '0700000.pt', '0750000.pt']"
      ]
     },
     "execution_count": 6,
     "metadata": {},
     "output_type": "execute_result"
    }
   ],
   "execution_count": 6
  },
  {
   "metadata": {
    "ExecuteTime": {
     "end_time": "2025-01-26T19:28:07.331719Z",
     "start_time": "2025-01-26T19:28:07.319770Z"
    }
   },
   "cell_type": "code",
   "source": [
    "for i in (2, 5, 10):\n",
    "    experiment_name = f\"all_models_{i}_intervals\"\n",
    "    compare_models_with_time_intervals(name=experiment_name, n_intervals=i, models=models)"
   ],
   "id": "4bd69bcd2ac6867f",
   "outputs": [
    {
     "name": "stdout",
     "output_type": "stream",
     "text": [
      "OVERWRITTEN: all_models_2_intervals.sh\n",
      "Created all_models_2_intervals.sh !\n",
      "\n",
      "8 experiments.\n",
      "Execute in the root-dir using GPUs:\n",
      "$ bash gns_experiments/experiment_2/all_models_2_intervals.sh\n",
      "------------------------------------------\n",
      "\n",
      "OVERWRITTEN: all_models_5_intervals.sh\n",
      "Created all_models_5_intervals.sh !\n",
      "\n",
      "20 experiments.\n",
      "Execute in the root-dir using GPUs:\n",
      "$ bash gns_experiments/experiment_2/all_models_5_intervals.sh\n",
      "------------------------------------------\n",
      "\n",
      "OVERWRITTEN: all_models_10_intervals.sh\n",
      "Created all_models_10_intervals.sh !\n",
      "\n",
      "40 experiments.\n",
      "Execute in the root-dir using GPUs:\n",
      "$ bash gns_experiments/experiment_2/all_models_10_intervals.sh\n",
      "------------------------------------------\n",
      "\n"
     ]
    }
   ],
   "execution_count": 7
  },
  {
   "metadata": {},
   "cell_type": "code",
   "outputs": [],
   "execution_count": null,
   "source": "",
   "id": "614fc2bc598b282b"
  }
 ],
 "metadata": {
  "kernelspec": {
   "display_name": "Python 3",
   "language": "python",
   "name": "python3"
  },
  "language_info": {
   "codemirror_mode": {
    "name": "ipython",
    "version": 2
   },
   "file_extension": ".py",
   "mimetype": "text/x-python",
   "name": "python",
   "nbconvert_exporter": "python",
   "pygments_lexer": "ipython2",
   "version": "2.7.6"
  }
 },
 "nbformat": 4,
 "nbformat_minor": 5
}
