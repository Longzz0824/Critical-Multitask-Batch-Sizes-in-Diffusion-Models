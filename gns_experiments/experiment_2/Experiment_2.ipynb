{
 "cells": [
  {
   "metadata": {
    "ExecuteTime": {
     "end_time": "2025-01-26T06:04:59.381147Z",
     "start_time": "2025-01-26T06:04:57.645557Z"
    }
   },
   "cell_type": "code",
   "source": [
    "import os\n",
    "from gns_utils import create_experiment_bash_with"
   ],
   "id": "a910373ef12856e9",
   "outputs": [],
   "execution_count": 1
  },
  {
   "metadata": {},
   "cell_type": "markdown",
   "source": "## 1. Create experiment shells",
   "id": "144049f1be8cf5f4"
  },
  {
   "metadata": {
    "ExecuteTime": {
     "end_time": "2025-01-26T06:05:00.821879Z",
     "start_time": "2025-01-26T06:05:00.817320Z"
    }
   },
   "cell_type": "code",
   "source": [
    "def compare_models_with_time_intervals(\n",
    "        name: str,\n",
    "        n_intervals: int,\n",
    "        models: [str],\n",
    "        n_steps: int = 1000,\n",
    "        **additional_args\n",
    "    ):\n",
    "    shell_name = name + \".sh\"\n",
    "    csv_name = name + \".csv\"\n",
    "    if os.path.exists(shell_name):\n",
    "        os.remove(shell_name)\n",
    "        print(f\"OVERWRITTEN: {shell_name}\")\n",
    "    if os.path.exists(csv_name):\n",
    "        os.remove(csv_name)\n",
    "        print(f\"OVERWRITTEN: {csv_name}\")\n",
    "        \n",
    "    other_args = f\"--csv_path {csv_name} \" + f\" \".join([f\"--{k} {v}\" for k, v in additional_args.items()])\n",
    "    timesteps = [\n",
    "        (i, i+(n_steps // n_intervals)) if i==0 else (i+1, i+(n_steps // n_intervals)) \n",
    "        for i in range(0, n_steps, n_steps // n_intervals)\n",
    "    ]\n",
    "    expr_count = 0\n",
    "    for model in models:\n",
    "        for (t_min, t_max) in timesteps:\n",
    "            arguments = f\"--model {model} --t_min {t_min} --t_max {t_max} -acc -nw \" + other_args\n",
    "            create_experiment_bash_with(args=arguments, bash_file=shell_name)\n",
    "            expr_count += 1\n",
    "            \n",
    "    print(f\"{expr_count} experiments.\")\n",
    "    print(f\"Execute in the root-dir using GPUs:\")\n",
    "    print(f\"$ batch gns_experiments/experiment_2/{shell_name}\")\n",
    "    print(\"------------------------------------------\\n\")"
   ],
   "id": "b2e4bf569cab4ce7",
   "outputs": [],
   "execution_count": 2
  },
  {
   "metadata": {
    "ExecuteTime": {
     "end_time": "2025-01-26T06:05:02.220893Z",
     "start_time": "2025-01-26T06:05:02.214843Z"
    }
   },
   "cell_type": "code",
   "source": [
    "models = sorted(os.listdir(\"../../checkpoints\"))\n",
    "models"
   ],
   "id": "e770141dd27ae0a1",
   "outputs": [
    {
     "data": {
      "text/plain": [
       "['0010000.pt',\n",
       " '0020000.pt',\n",
       " '0030000.pt',\n",
       " '0040000.pt',\n",
       " '0050000.pt',\n",
       " '0060000.pt',\n",
       " '0070000.pt',\n",
       " '0080000.pt',\n",
       " '0090000.pt',\n",
       " '0100000.pt',\n",
       " '0150000.pt',\n",
       " '0200000.pt',\n",
       " '0250000.pt',\n",
       " '0300000.pt',\n",
       " '0350000.pt',\n",
       " '0400000.pt',\n",
       " '0450000.pt',\n",
       " '0500000.pt',\n",
       " '0550000.pt',\n",
       " '0600000.pt',\n",
       " '0650000.pt',\n",
       " '0700000.pt',\n",
       " '0750000.pt']"
      ]
     },
     "execution_count": 3,
     "metadata": {},
     "output_type": "execute_result"
    }
   ],
   "execution_count": 3
  },
  {
   "metadata": {
    "ExecuteTime": {
     "end_time": "2025-01-26T06:05:06.177271Z",
     "start_time": "2025-01-26T06:05:06.153571Z"
    }
   },
   "cell_type": "code",
   "source": [
    "for i in (2, 5, 10):\n",
    "    experiment_name = f\"all_models_{i}_intervals\"\n",
    "    compare_models_with_time_intervals(name=experiment_name, n_intervals=i, models=models)"
   ],
   "id": "4bd69bcd2ac6867f",
   "outputs": [
    {
     "name": "stdout",
     "output_type": "stream",
     "text": [
      "OVERWRITTEN: all_models_2_intervals.sh\n",
      "Created all_models_2_intervals.sh !\n",
      "\n",
      "46 experiments.\n",
      "Execute in the root-dir using GPUs:\n",
      "$ batch gns_experiments/experiment_2/all_models_2_intervals.sh\n",
      "------------------------------------------\n",
      "\n",
      "OVERWRITTEN: all_models_5_intervals.sh\n",
      "Created all_models_5_intervals.sh !\n",
      "\n",
      "115 experiments.\n",
      "Execute in the root-dir using GPUs:\n",
      "$ batch gns_experiments/experiment_2/all_models_5_intervals.sh\n",
      "------------------------------------------\n",
      "\n",
      "OVERWRITTEN: all_models_10_intervals.sh\n",
      "Created all_models_10_intervals.sh !\n",
      "\n",
      "230 experiments.\n",
      "Execute in the root-dir using GPUs:\n",
      "$ batch gns_experiments/experiment_2/all_models_10_intervals.sh\n",
      "------------------------------------------\n",
      "\n"
     ]
    }
   ],
   "execution_count": 4
  },
  {
   "metadata": {},
   "cell_type": "code",
   "outputs": [],
   "execution_count": null,
   "source": "",
   "id": "614fc2bc598b282b"
  }
 ],
 "metadata": {
  "kernelspec": {
   "display_name": "Python 3",
   "language": "python",
   "name": "python3"
  },
  "language_info": {
   "codemirror_mode": {
    "name": "ipython",
    "version": 2
   },
   "file_extension": ".py",
   "mimetype": "text/x-python",
   "name": "python",
   "nbconvert_exporter": "python",
   "pygments_lexer": "ipython2",
   "version": "2.7.6"
  }
 },
 "nbformat": 4,
 "nbformat_minor": 5
}
