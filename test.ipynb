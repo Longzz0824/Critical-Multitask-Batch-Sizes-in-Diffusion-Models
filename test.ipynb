{
 "cells": [
  {
   "cell_type": "code",
   "id": "initial_id",
   "metadata": {
    "collapsed": true,
    "ExecuteTime": {
     "end_time": "2025-01-17T21:04:13.676186Z",
     "start_time": "2025-01-17T21:04:11.195058Z"
    }
   },
   "source": [
    "import socket\n",
    "\n",
    "import numpy as np\n",
    "import torch\n",
    "import torch.nn as nn\n",
    "import torch.optim as optim\n",
    "\n",
    "import diffusion\n",
    "from models import DiT_models\n",
    "from download import find_model\n",
    "\n",
    "from torch import Tensor\n",
    "from torch.utils.data import DataLoader, Subset\n",
    "from tqdm import tqdm\n",
    "from utils import *\n",
    "\n",
    "device = \"cuda\" if torch.cuda.is_available() else \"cpu\"\n",
    "device"
   ],
   "outputs": [
    {
     "data": {
      "text/plain": [
       "'cpu'"
      ]
     },
     "execution_count": 1,
     "metadata": {},
     "output_type": "execute_result"
    }
   ],
   "execution_count": 1
  },
  {
   "metadata": {
    "ExecuteTime": {
     "end_time": "2025-01-17T21:04:23.263098Z",
     "start_time": "2025-01-17T21:04:23.224864Z"
    }
   },
   "cell_type": "code",
   "source": [
    "df = logger_to_dataframe()\n",
    "df"
   ],
   "id": "8e050ae4d287ae02",
   "outputs": [
    {
     "data": {
      "text/plain": [
       "   model  epoch  batch      lr  g_true  B_big  B_small        date  \\\n",
       "0  large      2   1000  0.0001     1.0  30000     1000  2025-01-16   \n",
       "\n",
       "              time  \n",
       "0  04:26:19.192506  "
      ],
      "text/html": [
       "<div>\n",
       "<style scoped>\n",
       "    .dataframe tbody tr th:only-of-type {\n",
       "        vertical-align: middle;\n",
       "    }\n",
       "\n",
       "    .dataframe tbody tr th {\n",
       "        vertical-align: top;\n",
       "    }\n",
       "\n",
       "    .dataframe thead th {\n",
       "        text-align: right;\n",
       "    }\n",
       "</style>\n",
       "<table border=\"1\" class=\"dataframe\">\n",
       "  <thead>\n",
       "    <tr style=\"text-align: right;\">\n",
       "      <th></th>\n",
       "      <th>model</th>\n",
       "      <th>epoch</th>\n",
       "      <th>batch</th>\n",
       "      <th>lr</th>\n",
       "      <th>g_true</th>\n",
       "      <th>B_big</th>\n",
       "      <th>B_small</th>\n",
       "      <th>date</th>\n",
       "      <th>time</th>\n",
       "    </tr>\n",
       "  </thead>\n",
       "  <tbody>\n",
       "    <tr>\n",
       "      <th>0</th>\n",
       "      <td>large</td>\n",
       "      <td>2</td>\n",
       "      <td>1000</td>\n",
       "      <td>0.0001</td>\n",
       "      <td>1.0</td>\n",
       "      <td>30000</td>\n",
       "      <td>1000</td>\n",
       "      <td>2025-01-16</td>\n",
       "      <td>04:26:19.192506</td>\n",
       "    </tr>\n",
       "  </tbody>\n",
       "</table>\n",
       "</div>"
      ]
     },
     "execution_count": 2,
     "metadata": {},
     "output_type": "execute_result"
    }
   ],
   "execution_count": 2
  },
  {
   "metadata": {
    "ExecuteTime": {
     "end_time": "2025-01-17T21:04:26.069009Z",
     "start_time": "2025-01-17T21:04:26.054291Z"
    }
   },
   "cell_type": "code",
   "source": "diff = diffusion.create_diffusion(\"\")",
   "id": "50ea4f6807cb3225",
   "outputs": [],
   "execution_count": 3
  },
  {
   "metadata": {
    "ExecuteTime": {
     "end_time": "2025-01-17T21:04:27.591686Z",
     "start_time": "2025-01-17T21:04:26.868259Z"
    }
   },
   "cell_type": "code",
   "source": [
    "model = DiT_models['DiT-S/2'](input_size=32, num_classes=1000).to(device)\n",
    "model.train()\n",
    "\n",
    "PATH = \"Checkpoints/0750000.pt\"\n",
    "torch.serialization.add_safe_globals([PATH])\n",
    "\n",
    "state_dict = find_model(PATH)\n",
    "model.load_state_dict(state_dict)"
   ],
   "id": "e6c6ffeac872be54",
   "outputs": [
    {
     "name": "stderr",
     "output_type": "stream",
     "text": [
      "/Users/egecimsir/Desktop/GenAI Practical/Critical-Multitask-Batch-Sizes-in-Diffusion-Models/download.py:26: FutureWarning: You are using `torch.load` with `weights_only=False` (the current default value), which uses the default pickle module implicitly. It is possible to construct malicious pickle data which will execute arbitrary code during unpickling (See https://github.com/pytorch/pytorch/blob/main/SECURITY.md#untrusted-models for more details). In a future release, the default value for `weights_only` will be flipped to `True`. This limits the functions that could be executed during unpickling. Arbitrary objects will no longer be allowed to be loaded via this mode unless they are explicitly allowlisted by the user via `torch.serialization.add_safe_globals`. We recommend you start setting `weights_only=True` for any use case where you don't have full control of the loaded file. Please open an issue on GitHub for any issues related to this experimental feature.\n",
      "  checkpoint = torch.load(model_name, map_location=lambda storage, loc: storage)\n"
     ]
    },
    {
     "data": {
      "text/plain": [
       "<All keys matched successfully>"
      ]
     },
     "execution_count": 4,
     "metadata": {},
     "output_type": "execute_result"
    }
   ],
   "execution_count": 4
  },
  {
   "metadata": {
    "ExecuteTime": {
     "end_time": "2025-01-17T21:04:40.599701Z",
     "start_time": "2025-01-17T21:04:40.371577Z"
    }
   },
   "cell_type": "code",
   "source": [
    "loss = ...\n",
    "for x, y in DataLoader(FeatureDataset()):\n",
    "    \n",
    "    x = x.to(device).squeeze(dim=1)\n",
    "    y = y.to(device).squeeze(dim=1)\n",
    "    t = torch.randint(0, 1000, (x.shape[0],), device=device)\n",
    "    model_kwargs = dict(y=y)\n",
    "    loss_dict = diff.training_losses(model, x, t, model_kwargs)\n",
    "    loss = loss_dict[\"loss\"]\n",
    "    break\n",
    "    \n",
    "loss"
   ],
   "id": "1cef8d85a6773b08",
   "outputs": [
    {
     "name": "stderr",
     "output_type": "stream",
     "text": [
      "/Users/egecimsir/Desktop/Data Mining 1/Notebooks/venv/mps/lib/python3.10/site-packages/torch/_dynamo/eval_frame.py:632: UserWarning: torch.utils.checkpoint: the use_reentrant parameter should be passed explicitly. In version 2.5 we will raise an exception if use_reentrant is not passed. use_reentrant=False is recommended, but if you need to preserve the current default behavior, you can pass use_reentrant=True. Refer to docs for more details on the differences between the two variants.\n",
      "  return fn(*args, **kwargs)\n"
     ]
    },
    {
     "data": {
      "text/plain": [
       "tensor([0.0002], grad_fn=<AddBackward0>)"
      ]
     },
     "execution_count": 6,
     "metadata": {},
     "output_type": "execute_result"
    }
   ],
   "execution_count": 6
  },
  {
   "metadata": {},
   "cell_type": "code",
   "outputs": [],
   "execution_count": null,
   "source": "",
   "id": "aa5bdcf4ddcc4e4"
  }
 ],
 "metadata": {
  "kernelspec": {
   "display_name": "Python 3",
   "language": "python",
   "name": "python3"
  },
  "language_info": {
   "codemirror_mode": {
    "name": "ipython",
    "version": 2
   },
   "file_extension": ".py",
   "mimetype": "text/x-python",
   "name": "python",
   "nbconvert_exporter": "python",
   "pygments_lexer": "ipython2",
   "version": "2.7.6"
  }
 },
 "nbformat": 4,
 "nbformat_minor": 5
}
