{
 "cells": [
  {
   "metadata": {
    "ExecuteTime": {
     "end_time": "2025-01-26T01:05:07.554138Z",
     "start_time": "2025-01-26T01:05:07.067130Z"
    }
   },
   "cell_type": "code",
   "source": [
    "import socket\n",
    "import os\n",
    "import sys\n",
    "import pwd\n",
    "from datetime import datetime\n",
    "\n",
    "import numpy as np\n",
    "import pandas as pd\n",
    "import matplotlib.pyplot as plt"
   ],
   "id": "30913b7569e4f614",
   "outputs": [],
   "execution_count": 1
  },
  {
   "metadata": {
    "ExecuteTime": {
     "end_time": "2025-01-26T01:05:09.365277Z",
     "start_time": "2025-01-26T01:05:07.961402Z"
    }
   },
   "cell_type": "code",
   "source": [
    "from gns_utils import log_to_dataframe\n",
    "\n",
    "meta, param, result = log_to_dataframe(\"experiment_log.csv\")"
   ],
   "id": "f1505e1b568047e4",
   "outputs": [
    {
     "name": "stderr",
     "output_type": "stream",
     "text": [
      "/Users/egecimsir/Desktop/GenAI Practical/Critical-Multitask-Batch-Sizes-in-Diffusion-Models/GNS/gns_utils.py:139: UserWarning: Could not infer format, so each element will be parsed individually, falling back to `dateutil`. To ensure parsing is consistent and as-expected, please specify a format.\n",
      "  df[\"runtime\"] = pd.to_datetime(df[\"runtime\"])\n"
     ]
    }
   ],
   "execution_count": 2
  },
  {
   "metadata": {
    "ExecuteTime": {
     "end_time": "2025-01-26T01:05:10.509593Z",
     "start_time": "2025-01-26T01:05:10.496015Z"
    }
   },
   "cell_type": "code",
   "source": "meta",
   "id": "2fc6ccf2b5b25281",
   "outputs": [
    {
     "data": {
      "text/plain": [
       "                 date    user                   host       ckpt_dir  \\\n",
       "0 2025-01-23 16:52:14  cimsir  basalt.cip.ifi.lmu.de  ./checkpoints   \n",
       "1 2025-01-25 20:03:06  cimsir  basalt.cip.ifi.lmu.de  ./checkpoints   \n",
       "\n",
       "     vis_dir  save_fig  accumulate  epoch  verbose  no_seed  no_warnings  \\\n",
       "0  ./visuals       NaN        True   True     True    False         True   \n",
       "1  ./visuals       NaN        True   True     True    False        False   \n",
       "\n",
       "           runtime  \n",
       "0  00:02:46.377392  \n",
       "1  00:15:21.813211  "
      ],
      "text/html": [
       "<div>\n",
       "<style scoped>\n",
       "    .dataframe tbody tr th:only-of-type {\n",
       "        vertical-align: middle;\n",
       "    }\n",
       "\n",
       "    .dataframe tbody tr th {\n",
       "        vertical-align: top;\n",
       "    }\n",
       "\n",
       "    .dataframe thead th {\n",
       "        text-align: right;\n",
       "    }\n",
       "</style>\n",
       "<table border=\"1\" class=\"dataframe\">\n",
       "  <thead>\n",
       "    <tr style=\"text-align: right;\">\n",
       "      <th></th>\n",
       "      <th>date</th>\n",
       "      <th>user</th>\n",
       "      <th>host</th>\n",
       "      <th>ckpt_dir</th>\n",
       "      <th>vis_dir</th>\n",
       "      <th>save_fig</th>\n",
       "      <th>accumulate</th>\n",
       "      <th>epoch</th>\n",
       "      <th>verbose</th>\n",
       "      <th>no_seed</th>\n",
       "      <th>no_warnings</th>\n",
       "      <th>runtime</th>\n",
       "    </tr>\n",
       "  </thead>\n",
       "  <tbody>\n",
       "    <tr>\n",
       "      <th>0</th>\n",
       "      <td>2025-01-23 16:52:14</td>\n",
       "      <td>cimsir</td>\n",
       "      <td>basalt.cip.ifi.lmu.de</td>\n",
       "      <td>./checkpoints</td>\n",
       "      <td>./visuals</td>\n",
       "      <td>NaN</td>\n",
       "      <td>True</td>\n",
       "      <td>True</td>\n",
       "      <td>True</td>\n",
       "      <td>False</td>\n",
       "      <td>True</td>\n",
       "      <td>00:02:46.377392</td>\n",
       "    </tr>\n",
       "    <tr>\n",
       "      <th>1</th>\n",
       "      <td>2025-01-25 20:03:06</td>\n",
       "      <td>cimsir</td>\n",
       "      <td>basalt.cip.ifi.lmu.de</td>\n",
       "      <td>./checkpoints</td>\n",
       "      <td>./visuals</td>\n",
       "      <td>NaN</td>\n",
       "      <td>True</td>\n",
       "      <td>True</td>\n",
       "      <td>True</td>\n",
       "      <td>False</td>\n",
       "      <td>False</td>\n",
       "      <td>00:15:21.813211</td>\n",
       "    </tr>\n",
       "  </tbody>\n",
       "</table>\n",
       "</div>"
      ]
     },
     "execution_count": 3,
     "metadata": {},
     "output_type": "execute_result"
    }
   ],
   "execution_count": 3
  },
  {
   "metadata": {
    "ExecuteTime": {
     "end_time": "2025-01-26T01:05:11.117134Z",
     "start_time": "2025-01-26T01:05:11.110833Z"
    }
   },
   "cell_type": "code",
   "source": "param",
   "id": "6b3db888290bd5df",
   "outputs": [
    {
     "data": {
      "text/plain": [
       "        model  diff_steps  true_portion  t_min  t_max\n",
       "0  0750000.pt        1000           0.1    NaN    NaN\n",
       "1  0750000.pt        1000           0.1    NaN    NaN"
      ],
      "text/html": [
       "<div>\n",
       "<style scoped>\n",
       "    .dataframe tbody tr th:only-of-type {\n",
       "        vertical-align: middle;\n",
       "    }\n",
       "\n",
       "    .dataframe tbody tr th {\n",
       "        vertical-align: top;\n",
       "    }\n",
       "\n",
       "    .dataframe thead th {\n",
       "        text-align: right;\n",
       "    }\n",
       "</style>\n",
       "<table border=\"1\" class=\"dataframe\">\n",
       "  <thead>\n",
       "    <tr style=\"text-align: right;\">\n",
       "      <th></th>\n",
       "      <th>model</th>\n",
       "      <th>diff_steps</th>\n",
       "      <th>true_portion</th>\n",
       "      <th>t_min</th>\n",
       "      <th>t_max</th>\n",
       "    </tr>\n",
       "  </thead>\n",
       "  <tbody>\n",
       "    <tr>\n",
       "      <th>0</th>\n",
       "      <td>0750000.pt</td>\n",
       "      <td>1000</td>\n",
       "      <td>0.1</td>\n",
       "      <td>NaN</td>\n",
       "      <td>NaN</td>\n",
       "    </tr>\n",
       "    <tr>\n",
       "      <th>1</th>\n",
       "      <td>0750000.pt</td>\n",
       "      <td>1000</td>\n",
       "      <td>0.1</td>\n",
       "      <td>NaN</td>\n",
       "      <td>NaN</td>\n",
       "    </tr>\n",
       "  </tbody>\n",
       "</table>\n",
       "</div>"
      ]
     },
     "execution_count": 4,
     "metadata": {},
     "output_type": "execute_result"
    }
   ],
   "execution_count": 4
  },
  {
   "metadata": {
    "ExecuteTime": {
     "end_time": "2025-01-26T01:05:12.203325Z",
     "start_time": "2025-01-26T01:05:12.198061Z"
    }
   },
   "cell_type": "code",
   "source": "result",
   "id": "4a69a17eae4df6a9",
   "outputs": [
    {
     "data": {
      "text/plain": [
       "      gns_est          runtime  t_min  t_max\n",
       "0    9.597502  00:02:46.377392    NaN    NaN\n",
       "1  127.265038  00:15:21.813211    NaN    NaN"
      ],
      "text/html": [
       "<div>\n",
       "<style scoped>\n",
       "    .dataframe tbody tr th:only-of-type {\n",
       "        vertical-align: middle;\n",
       "    }\n",
       "\n",
       "    .dataframe tbody tr th {\n",
       "        vertical-align: top;\n",
       "    }\n",
       "\n",
       "    .dataframe thead th {\n",
       "        text-align: right;\n",
       "    }\n",
       "</style>\n",
       "<table border=\"1\" class=\"dataframe\">\n",
       "  <thead>\n",
       "    <tr style=\"text-align: right;\">\n",
       "      <th></th>\n",
       "      <th>gns_est</th>\n",
       "      <th>runtime</th>\n",
       "      <th>t_min</th>\n",
       "      <th>t_max</th>\n",
       "    </tr>\n",
       "  </thead>\n",
       "  <tbody>\n",
       "    <tr>\n",
       "      <th>0</th>\n",
       "      <td>9.597502</td>\n",
       "      <td>00:02:46.377392</td>\n",
       "      <td>NaN</td>\n",
       "      <td>NaN</td>\n",
       "    </tr>\n",
       "    <tr>\n",
       "      <th>1</th>\n",
       "      <td>127.265038</td>\n",
       "      <td>00:15:21.813211</td>\n",
       "      <td>NaN</td>\n",
       "      <td>NaN</td>\n",
       "    </tr>\n",
       "  </tbody>\n",
       "</table>\n",
       "</div>"
      ]
     },
     "execution_count": 5,
     "metadata": {},
     "output_type": "execute_result"
    }
   ],
   "execution_count": 5
  },
  {
   "metadata": {
    "ExecuteTime": {
     "end_time": "2025-01-26T01:05:13.776253Z",
     "start_time": "2025-01-26T01:05:13.770818Z"
    }
   },
   "cell_type": "code",
   "source": "os.path.dirname(os.path.abspath(\"__file__\")) + \"/..\"",
   "id": "de09651f21e234b8",
   "outputs": [
    {
     "data": {
      "text/plain": [
       "'/Users/egecimsir/Desktop/GenAI Practical/Critical-Multitask-Batch-Sizes-in-Diffusion-Models/GNS/..'"
      ]
     },
     "execution_count": 6,
     "metadata": {},
     "output_type": "execute_result"
    }
   ],
   "execution_count": 6
  },
  {
   "metadata": {
    "ExecuteTime": {
     "end_time": "2025-01-26T01:05:17.895486Z",
     "start_time": "2025-01-26T01:05:17.889847Z"
    }
   },
   "cell_type": "code",
   "source": "os.path.dirname(os.path.abspath(\"../diffusion\")) + \"../diffusion\"",
   "id": "567a560e986679ae",
   "outputs": [
    {
     "data": {
      "text/plain": [
       "'/Users/egecimsir/Desktop/GenAI Practical/Critical-Multitask-Batch-Sizes-in-Diffusion-Models../diffusion'"
      ]
     },
     "execution_count": 7,
     "metadata": {},
     "output_type": "execute_result"
    }
   ],
   "execution_count": 7
  },
  {
   "metadata": {
    "ExecuteTime": {
     "end_time": "2025-01-26T01:05:19.042540Z",
     "start_time": "2025-01-26T01:05:19.035966Z"
    }
   },
   "cell_type": "code",
   "source": "sys.path",
   "id": "71681f1bea62a2a0",
   "outputs": [
    {
     "data": {
      "text/plain": [
       "['/Applications/PyCharm.app/Contents/plugins/python/helpers-pro/jupyter_debug',\n",
       " '/Applications/PyCharm.app/Contents/plugins/python/helpers/pydev',\n",
       " '/Users/egecimsir/Desktop/GenAI Practical/Critical-Multitask-Batch-Sizes-in-Diffusion-Models',\n",
       " '/Library/Frameworks/Python.framework/Versions/3.10/lib/python310.zip',\n",
       " '/Library/Frameworks/Python.framework/Versions/3.10/lib/python3.10',\n",
       " '/Library/Frameworks/Python.framework/Versions/3.10/lib/python3.10/lib-dynload',\n",
       " '',\n",
       " '/Users/egecimsir/Desktop/Data Mining 1/Notebooks/venv/mps/lib/python3.10/site-packages',\n",
       " '/var/folders/q8/893jzk397cj9qwpfyb4ltls40000gn/T/tmpjvgefxdy']"
      ]
     },
     "execution_count": 8,
     "metadata": {},
     "output_type": "execute_result"
    }
   ],
   "execution_count": 8
  },
  {
   "metadata": {
    "ExecuteTime": {
     "end_time": "2025-01-26T01:06:16.023535Z",
     "start_time": "2025-01-26T01:06:16.011135Z"
    }
   },
   "cell_type": "code",
   "source": "from diffusion import create_diffusion",
   "id": "3e68fc4700651a74",
   "outputs": [],
   "execution_count": 11
  },
  {
   "metadata": {},
   "cell_type": "code",
   "outputs": [],
   "execution_count": null,
   "source": "",
   "id": "659f5b475e9aa0a0"
  }
 ],
 "metadata": {
  "kernelspec": {
   "display_name": "Python 3",
   "language": "python",
   "name": "python3"
  },
  "language_info": {
   "codemirror_mode": {
    "name": "ipython",
    "version": 2
   },
   "file_extension": ".py",
   "mimetype": "text/x-python",
   "name": "python",
   "nbconvert_exporter": "python",
   "pygments_lexer": "ipython2",
   "version": "2.7.6"
  }
 },
 "nbformat": 4,
 "nbformat_minor": 5
}
