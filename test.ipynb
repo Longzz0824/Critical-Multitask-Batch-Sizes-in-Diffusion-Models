{
 "cells": [
  {
   "metadata": {
    "ExecuteTime": {
     "end_time": "2025-01-28T18:26:06.813269Z",
     "start_time": "2025-01-28T18:26:04.584710Z"
    }
   },
   "cell_type": "code",
   "source": [
    "import os\n",
    "import pandas as pd\n",
    "import matplotlib.pyplot as plt\n",
    "from pathlib import Path\n",
    "from gns_utils import prepare_expr_files, csv_log_to_dataframe, split_dataframe, create_experiment_bash_with\n",
    "\n",
    "EXPR_DIR = Path(\"gns_experiments\")\n",
    "CKPT_DIR = Path(\"checkpoints\")\n",
    "all_models = sorted(os.listdir(CKPT_DIR))\n",
    "all_models"
   ],
   "id": "30913b7569e4f614",
   "outputs": [
    {
     "data": {
      "text/plain": [
       "['0010000.pt', '0020000.pt', '0700000.pt', '0750000.pt']"
      ]
     },
     "execution_count": 1,
     "metadata": {},
     "output_type": "execute_result"
    }
   ],
   "execution_count": 1
  },
  {
   "metadata": {
    "ExecuteTime": {
     "end_time": "2025-01-28T18:26:07.751772Z",
     "start_time": "2025-01-28T18:26:07.744920Z"
    }
   },
   "cell_type": "code",
   "source": "",
   "id": "4eda2e7a12980958",
   "outputs": [],
   "execution_count": 2
  },
  {
   "metadata": {
    "ExecuteTime": {
     "end_time": "2025-01-28T18:26:09.387768Z",
     "start_time": "2025-01-28T18:26:09.346962Z"
    }
   },
   "cell_type": "code",
   "source": [
    "path = EXPR_DIR / \"1_true_grad_accuracy/results/\"\n",
    "files = [path / file for file in os.listdir(path)]\n",
    "df = pd.concat([csv_log_to_dataframe(file, split=True) for file in files])"
   ],
   "id": "957a305b947ea432",
   "outputs": [
    {
     "name": "stderr",
     "output_type": "stream",
     "text": [
      "/Users/egecimsir/Desktop/GenAI Practical/Critical-Multitask-Batch-Sizes-in-Diffusion-Models/gns_utils.py:164: UserWarning: Could not infer format, so each element will be parsed individually, falling back to `dateutil`. To ensure parsing is consistent and as-expected, please specify a format.\n",
      "  df[\"runtime\"] = pd.to_datetime(df[\"runtime\"])\n",
      "/Users/egecimsir/Desktop/GenAI Practical/Critical-Multitask-Batch-Sizes-in-Diffusion-Models/gns_utils.py:164: UserWarning: Could not infer format, so each element will be parsed individually, falling back to `dateutil`. To ensure parsing is consistent and as-expected, please specify a format.\n",
      "  df[\"runtime\"] = pd.to_datetime(df[\"runtime\"])\n",
      "/Users/egecimsir/Desktop/GenAI Practical/Critical-Multitask-Batch-Sizes-in-Diffusion-Models/gns_utils.py:164: UserWarning: Could not infer format, so each element will be parsed individually, falling back to `dateutil`. To ensure parsing is consistent and as-expected, please specify a format.\n",
      "  df[\"runtime\"] = pd.to_datetime(df[\"runtime\"])\n"
     ]
    }
   ],
   "execution_count": 3
  },
  {
   "metadata": {
    "ExecuteTime": {
     "end_time": "2025-01-28T18:26:11.528797Z",
     "start_time": "2025-01-28T18:26:11.520169Z"
    }
   },
   "cell_type": "code",
   "source": [
    "meta, param, res = split_dataframe(df)\n",
    "param"
   ],
   "id": "77c1a61507360ddf",
   "outputs": [
    {
     "data": {
      "text/plain": [
       "        model  t_min  t_max  diff_steps  true_portion\n",
       "0  0010000.pt    NaN    NaN        1000           0.5\n",
       "1  0010000.pt    NaN    NaN        1000           0.5\n",
       "2  0010000.pt    NaN    NaN        1000           0.5\n",
       "0  0010000.pt    NaN    NaN        1000           0.1\n",
       "1  0010000.pt    NaN    NaN        1000           0.1\n",
       "2  0010000.pt    NaN    NaN        1000           0.1\n",
       "0  0010000.pt    NaN    NaN        1000           0.2\n",
       "1  0010000.pt    NaN    NaN        1000           0.2"
      ],
      "text/html": [
       "<div>\n",
       "<style scoped>\n",
       "    .dataframe tbody tr th:only-of-type {\n",
       "        vertical-align: middle;\n",
       "    }\n",
       "\n",
       "    .dataframe tbody tr th {\n",
       "        vertical-align: top;\n",
       "    }\n",
       "\n",
       "    .dataframe thead th {\n",
       "        text-align: right;\n",
       "    }\n",
       "</style>\n",
       "<table border=\"1\" class=\"dataframe\">\n",
       "  <thead>\n",
       "    <tr style=\"text-align: right;\">\n",
       "      <th></th>\n",
       "      <th>model</th>\n",
       "      <th>t_min</th>\n",
       "      <th>t_max</th>\n",
       "      <th>diff_steps</th>\n",
       "      <th>true_portion</th>\n",
       "    </tr>\n",
       "  </thead>\n",
       "  <tbody>\n",
       "    <tr>\n",
       "      <th>0</th>\n",
       "      <td>0010000.pt</td>\n",
       "      <td>NaN</td>\n",
       "      <td>NaN</td>\n",
       "      <td>1000</td>\n",
       "      <td>0.5</td>\n",
       "    </tr>\n",
       "    <tr>\n",
       "      <th>1</th>\n",
       "      <td>0010000.pt</td>\n",
       "      <td>NaN</td>\n",
       "      <td>NaN</td>\n",
       "      <td>1000</td>\n",
       "      <td>0.5</td>\n",
       "    </tr>\n",
       "    <tr>\n",
       "      <th>2</th>\n",
       "      <td>0010000.pt</td>\n",
       "      <td>NaN</td>\n",
       "      <td>NaN</td>\n",
       "      <td>1000</td>\n",
       "      <td>0.5</td>\n",
       "    </tr>\n",
       "    <tr>\n",
       "      <th>0</th>\n",
       "      <td>0010000.pt</td>\n",
       "      <td>NaN</td>\n",
       "      <td>NaN</td>\n",
       "      <td>1000</td>\n",
       "      <td>0.1</td>\n",
       "    </tr>\n",
       "    <tr>\n",
       "      <th>1</th>\n",
       "      <td>0010000.pt</td>\n",
       "      <td>NaN</td>\n",
       "      <td>NaN</td>\n",
       "      <td>1000</td>\n",
       "      <td>0.1</td>\n",
       "    </tr>\n",
       "    <tr>\n",
       "      <th>2</th>\n",
       "      <td>0010000.pt</td>\n",
       "      <td>NaN</td>\n",
       "      <td>NaN</td>\n",
       "      <td>1000</td>\n",
       "      <td>0.1</td>\n",
       "    </tr>\n",
       "    <tr>\n",
       "      <th>0</th>\n",
       "      <td>0010000.pt</td>\n",
       "      <td>NaN</td>\n",
       "      <td>NaN</td>\n",
       "      <td>1000</td>\n",
       "      <td>0.2</td>\n",
       "    </tr>\n",
       "    <tr>\n",
       "      <th>1</th>\n",
       "      <td>0010000.pt</td>\n",
       "      <td>NaN</td>\n",
       "      <td>NaN</td>\n",
       "      <td>1000</td>\n",
       "      <td>0.2</td>\n",
       "    </tr>\n",
       "  </tbody>\n",
       "</table>\n",
       "</div>"
      ]
     },
     "execution_count": 4,
     "metadata": {},
     "output_type": "execute_result"
    }
   ],
   "execution_count": 4
  },
  {
   "metadata": {
    "ExecuteTime": {
     "end_time": "2025-01-28T18:26:12.486922Z",
     "start_time": "2025-01-28T18:26:12.476713Z"
    }
   },
   "cell_type": "code",
   "source": "res",
   "id": "a9ea8673ed3e150c",
   "outputs": [
    {
     "data": {
      "text/plain": [
       "    gns_est    g_norm  b_true  t_min  t_max          runtime\n",
       "0  3.262382  1.036614   25000    NaN    NaN  00:08:54.943879\n",
       "1  3.137675  1.036454   25000    NaN    NaN  00:08:47.624477\n",
       "2  6.946759  1.038726   25000    NaN    NaN  00:10:04.787752\n",
       "0  2.051962  1.030378    5000    NaN    NaN  00:04:24.266915\n",
       "1  0.825525  1.026069    5000    NaN    NaN  00:04:24.933039\n",
       "2  0.746371  1.023740    5000    NaN    NaN  00:04:31.742532\n",
       "0  2.481508  1.030459   10000    NaN    NaN  00:05:36.398353\n",
       "1  2.298279  1.034712   10000    NaN    NaN  00:06:25.197141"
      ],
      "text/html": [
       "<div>\n",
       "<style scoped>\n",
       "    .dataframe tbody tr th:only-of-type {\n",
       "        vertical-align: middle;\n",
       "    }\n",
       "\n",
       "    .dataframe tbody tr th {\n",
       "        vertical-align: top;\n",
       "    }\n",
       "\n",
       "    .dataframe thead th {\n",
       "        text-align: right;\n",
       "    }\n",
       "</style>\n",
       "<table border=\"1\" class=\"dataframe\">\n",
       "  <thead>\n",
       "    <tr style=\"text-align: right;\">\n",
       "      <th></th>\n",
       "      <th>gns_est</th>\n",
       "      <th>g_norm</th>\n",
       "      <th>b_true</th>\n",
       "      <th>t_min</th>\n",
       "      <th>t_max</th>\n",
       "      <th>runtime</th>\n",
       "    </tr>\n",
       "  </thead>\n",
       "  <tbody>\n",
       "    <tr>\n",
       "      <th>0</th>\n",
       "      <td>3.262382</td>\n",
       "      <td>1.036614</td>\n",
       "      <td>25000</td>\n",
       "      <td>NaN</td>\n",
       "      <td>NaN</td>\n",
       "      <td>00:08:54.943879</td>\n",
       "    </tr>\n",
       "    <tr>\n",
       "      <th>1</th>\n",
       "      <td>3.137675</td>\n",
       "      <td>1.036454</td>\n",
       "      <td>25000</td>\n",
       "      <td>NaN</td>\n",
       "      <td>NaN</td>\n",
       "      <td>00:08:47.624477</td>\n",
       "    </tr>\n",
       "    <tr>\n",
       "      <th>2</th>\n",
       "      <td>6.946759</td>\n",
       "      <td>1.038726</td>\n",
       "      <td>25000</td>\n",
       "      <td>NaN</td>\n",
       "      <td>NaN</td>\n",
       "      <td>00:10:04.787752</td>\n",
       "    </tr>\n",
       "    <tr>\n",
       "      <th>0</th>\n",
       "      <td>2.051962</td>\n",
       "      <td>1.030378</td>\n",
       "      <td>5000</td>\n",
       "      <td>NaN</td>\n",
       "      <td>NaN</td>\n",
       "      <td>00:04:24.266915</td>\n",
       "    </tr>\n",
       "    <tr>\n",
       "      <th>1</th>\n",
       "      <td>0.825525</td>\n",
       "      <td>1.026069</td>\n",
       "      <td>5000</td>\n",
       "      <td>NaN</td>\n",
       "      <td>NaN</td>\n",
       "      <td>00:04:24.933039</td>\n",
       "    </tr>\n",
       "    <tr>\n",
       "      <th>2</th>\n",
       "      <td>0.746371</td>\n",
       "      <td>1.023740</td>\n",
       "      <td>5000</td>\n",
       "      <td>NaN</td>\n",
       "      <td>NaN</td>\n",
       "      <td>00:04:31.742532</td>\n",
       "    </tr>\n",
       "    <tr>\n",
       "      <th>0</th>\n",
       "      <td>2.481508</td>\n",
       "      <td>1.030459</td>\n",
       "      <td>10000</td>\n",
       "      <td>NaN</td>\n",
       "      <td>NaN</td>\n",
       "      <td>00:05:36.398353</td>\n",
       "    </tr>\n",
       "    <tr>\n",
       "      <th>1</th>\n",
       "      <td>2.298279</td>\n",
       "      <td>1.034712</td>\n",
       "      <td>10000</td>\n",
       "      <td>NaN</td>\n",
       "      <td>NaN</td>\n",
       "      <td>00:06:25.197141</td>\n",
       "    </tr>\n",
       "  </tbody>\n",
       "</table>\n",
       "</div>"
      ]
     },
     "execution_count": 5,
     "metadata": {},
     "output_type": "execute_result"
    }
   ],
   "execution_count": 5
  },
  {
   "metadata": {
    "ExecuteTime": {
     "end_time": "2025-01-28T18:26:13.720360Z",
     "start_time": "2025-01-28T18:26:13.707916Z"
    }
   },
   "cell_type": "code",
   "source": [
    "df = pd.concat([param, res], axis=1).drop([\"t_min\", \"t_max\", \"diff_steps\"], axis=1)\n",
    "df"
   ],
   "id": "ec8014062ba0c686",
   "outputs": [
    {
     "data": {
      "text/plain": [
       "        model  true_portion   gns_est    g_norm  b_true          runtime\n",
       "0  0010000.pt           0.5  3.262382  1.036614   25000  00:08:54.943879\n",
       "1  0010000.pt           0.5  3.137675  1.036454   25000  00:08:47.624477\n",
       "2  0010000.pt           0.5  6.946759  1.038726   25000  00:10:04.787752\n",
       "0  0010000.pt           0.1  2.051962  1.030378    5000  00:04:24.266915\n",
       "1  0010000.pt           0.1  0.825525  1.026069    5000  00:04:24.933039\n",
       "2  0010000.pt           0.1  0.746371  1.023740    5000  00:04:31.742532\n",
       "0  0010000.pt           0.2  2.481508  1.030459   10000  00:05:36.398353\n",
       "1  0010000.pt           0.2  2.298279  1.034712   10000  00:06:25.197141"
      ],
      "text/html": [
       "<div>\n",
       "<style scoped>\n",
       "    .dataframe tbody tr th:only-of-type {\n",
       "        vertical-align: middle;\n",
       "    }\n",
       "\n",
       "    .dataframe tbody tr th {\n",
       "        vertical-align: top;\n",
       "    }\n",
       "\n",
       "    .dataframe thead th {\n",
       "        text-align: right;\n",
       "    }\n",
       "</style>\n",
       "<table border=\"1\" class=\"dataframe\">\n",
       "  <thead>\n",
       "    <tr style=\"text-align: right;\">\n",
       "      <th></th>\n",
       "      <th>model</th>\n",
       "      <th>true_portion</th>\n",
       "      <th>gns_est</th>\n",
       "      <th>g_norm</th>\n",
       "      <th>b_true</th>\n",
       "      <th>runtime</th>\n",
       "    </tr>\n",
       "  </thead>\n",
       "  <tbody>\n",
       "    <tr>\n",
       "      <th>0</th>\n",
       "      <td>0010000.pt</td>\n",
       "      <td>0.5</td>\n",
       "      <td>3.262382</td>\n",
       "      <td>1.036614</td>\n",
       "      <td>25000</td>\n",
       "      <td>00:08:54.943879</td>\n",
       "    </tr>\n",
       "    <tr>\n",
       "      <th>1</th>\n",
       "      <td>0010000.pt</td>\n",
       "      <td>0.5</td>\n",
       "      <td>3.137675</td>\n",
       "      <td>1.036454</td>\n",
       "      <td>25000</td>\n",
       "      <td>00:08:47.624477</td>\n",
       "    </tr>\n",
       "    <tr>\n",
       "      <th>2</th>\n",
       "      <td>0010000.pt</td>\n",
       "      <td>0.5</td>\n",
       "      <td>6.946759</td>\n",
       "      <td>1.038726</td>\n",
       "      <td>25000</td>\n",
       "      <td>00:10:04.787752</td>\n",
       "    </tr>\n",
       "    <tr>\n",
       "      <th>0</th>\n",
       "      <td>0010000.pt</td>\n",
       "      <td>0.1</td>\n",
       "      <td>2.051962</td>\n",
       "      <td>1.030378</td>\n",
       "      <td>5000</td>\n",
       "      <td>00:04:24.266915</td>\n",
       "    </tr>\n",
       "    <tr>\n",
       "      <th>1</th>\n",
       "      <td>0010000.pt</td>\n",
       "      <td>0.1</td>\n",
       "      <td>0.825525</td>\n",
       "      <td>1.026069</td>\n",
       "      <td>5000</td>\n",
       "      <td>00:04:24.933039</td>\n",
       "    </tr>\n",
       "    <tr>\n",
       "      <th>2</th>\n",
       "      <td>0010000.pt</td>\n",
       "      <td>0.1</td>\n",
       "      <td>0.746371</td>\n",
       "      <td>1.023740</td>\n",
       "      <td>5000</td>\n",
       "      <td>00:04:31.742532</td>\n",
       "    </tr>\n",
       "    <tr>\n",
       "      <th>0</th>\n",
       "      <td>0010000.pt</td>\n",
       "      <td>0.2</td>\n",
       "      <td>2.481508</td>\n",
       "      <td>1.030459</td>\n",
       "      <td>10000</td>\n",
       "      <td>00:05:36.398353</td>\n",
       "    </tr>\n",
       "    <tr>\n",
       "      <th>1</th>\n",
       "      <td>0010000.pt</td>\n",
       "      <td>0.2</td>\n",
       "      <td>2.298279</td>\n",
       "      <td>1.034712</td>\n",
       "      <td>10000</td>\n",
       "      <td>00:06:25.197141</td>\n",
       "    </tr>\n",
       "  </tbody>\n",
       "</table>\n",
       "</div>"
      ]
     },
     "execution_count": 6,
     "metadata": {},
     "output_type": "execute_result"
    }
   ],
   "execution_count": 6
  },
  {
   "metadata": {
    "ExecuteTime": {
     "end_time": "2025-01-28T18:26:15.105993Z",
     "start_time": "2025-01-28T18:26:14.642904Z"
    }
   },
   "cell_type": "code",
   "source": [
    "pd.plotting.scatter_matrix(df, figsize=(16, 16))\n",
    "plt.show()"
   ],
   "id": "9a4c8bc0e78d77fd",
   "outputs": [
    {
     "data": {
      "text/plain": [
       "<Figure size 1600x1600 with 16 Axes>"
      ],
      "image/png": "[encoded data removed]"
     },
     "metadata": {},
     "output_type": "display_data"
    }
   ],
   "execution_count": 7
  },
  {
   "metadata": {},
   "cell_type": "code",
   "outputs": [],
   "execution_count": null,
   "source": "",
   "id": "aa58fd8dfa8032c8"
  }
 ],
 "metadata": {
  "kernelspec": {
   "display_name": "Python 3",
   "language": "python",
   "name": "python3"
  },
  "language_info": {
   "codemirror_mode": {
    "name": "ipython",
    "version": 2
   },
   "file_extension": ".py",
   "mimetype": "text/x-python",
   "name": "python",
   "nbconvert_exporter": "python",
   "pygments_lexer": "ipython2",
   "version": "2.7.6"
  }
 },
 "nbformat": 4,
 "nbformat_minor": 5
}
