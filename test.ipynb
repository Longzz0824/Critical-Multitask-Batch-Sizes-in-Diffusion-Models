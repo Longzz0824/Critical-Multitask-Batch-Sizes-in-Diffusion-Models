{
 "cells": [
  {
   "cell_type": "code",
   "id": "initial_id",
   "metadata": {
    "collapsed": true,
    "ExecuteTime": {
     "end_time": "2025-01-19T07:55:07.326815Z",
     "start_time": "2025-01-19T07:55:04.868363Z"
    }
   },
   "source": [
    "import socket\n",
    "\n",
    "import numpy as np\n",
    "import torch\n",
    "import torch.nn as nn\n",
    "import torch.optim as optim\n",
    "\n",
    "import diffusion\n",
    "from diffusion import SpacedDiffusion\n",
    "from models import DiT_models\n",
    "from download import find_model\n",
    "\n",
    "from torch import Tensor\n",
    "from torch.utils.data import DataLoader, Subset\n",
    "from tqdm import tqdm\n",
    "from utils import *\n",
    "\n",
    "device = \"cuda\" if torch.cuda.is_available() else \"cpu\"\n",
    "device"
   ],
   "outputs": [
    {
     "data": {
      "text/plain": [
       "'cpu'"
      ]
     },
     "execution_count": 1,
     "metadata": {},
     "output_type": "execute_result"
    }
   ],
   "execution_count": 1
  },
  {
   "metadata": {
    "ExecuteTime": {
     "end_time": "2025-01-19T07:55:08.513333Z",
     "start_time": "2025-01-19T07:55:08.509521Z"
    }
   },
   "cell_type": "code",
   "source": "diff = diffusion.create_diffusion(\"\")",
   "id": "50ea4f6807cb3225",
   "outputs": [],
   "execution_count": 2
  },
  {
   "metadata": {
    "ExecuteTime": {
     "end_time": "2025-01-19T07:55:09.963920Z",
     "start_time": "2025-01-19T07:55:09.252341Z"
    }
   },
   "cell_type": "code",
   "source": [
    "model = DiT_models['DiT-S/2'](input_size=32, num_classes=1000).to(device)\n",
    "model.train()\n",
    "\n",
    "PATH = \"Checkpoints/0750000.pt\"\n",
    "torch.serialization.add_safe_globals([PATH])\n",
    "\n",
    "state_dict = find_model(PATH)\n",
    "model.load_state_dict(state_dict)"
   ],
   "id": "e6c6ffeac872be54",
   "outputs": [
    {
     "name": "stderr",
     "output_type": "stream",
     "text": [
      "/Users/egecimsir/Desktop/GenAI Practical/Critical-Multitask-Batch-Sizes-in-Diffusion-Models/download.py:26: FutureWarning: You are using `torch.load` with `weights_only=False` (the current default value), which uses the default pickle module implicitly. It is possible to construct malicious pickle data which will execute arbitrary code during unpickling (See https://github.com/pytorch/pytorch/blob/main/SECURITY.md#untrusted-models for more details). In a future release, the default value for `weights_only` will be flipped to `True`. This limits the functions that could be executed during unpickling. Arbitrary objects will no longer be allowed to be loaded via this mode unless they are explicitly allowlisted by the user via `torch.serialization.add_safe_globals`. We recommend you start setting `weights_only=True` for any use case where you don't have full control of the loaded file. Please open an issue on GitHub for any issues related to this experimental feature.\n",
      "  checkpoint = torch.load(model_name, map_location=lambda storage, loc: storage)\n"
     ]
    },
    {
     "data": {
      "text/plain": [
       "<All keys matched successfully>"
      ]
     },
     "execution_count": 3,
     "metadata": {},
     "output_type": "execute_result"
    }
   ],
   "execution_count": 3
  },
  {
   "metadata": {
    "ExecuteTime": {
     "end_time": "2025-01-19T06:52:19.490074Z",
     "start_time": "2025-01-19T06:52:19.478210Z"
    }
   },
   "cell_type": "code",
   "source": [
    "x = torch.rand(3, 2)\n",
    "model = nn.Linear(2, 10, bias=False)\n",
    "opt = optim.AdamW(model.parameters())\n",
    "out = model(x)\n",
    "loss = out.mean()\n",
    "loss.backward()"
   ],
   "id": "2f52525612c9ffa2",
   "outputs": [],
   "execution_count": 39
  },
  {
   "metadata": {
    "ExecuteTime": {
     "end_time": "2025-01-19T06:52:26.226535Z",
     "start_time": "2025-01-19T06:52:26.213618Z"
    }
   },
   "cell_type": "code",
   "source": [
    "grads = get_gradient_vector(model)\n",
    "grads.shape"
   ],
   "id": "c5bc15ccf6a83d50",
   "outputs": [
    {
     "data": {
      "text/plain": [
       "torch.Size([20])"
      ]
     },
     "execution_count": 41,
     "metadata": {},
     "output_type": "execute_result"
    }
   ],
   "execution_count": 41
  },
  {
   "metadata": {
    "ExecuteTime": {
     "end_time": "2025-01-19T07:18:20.591091Z",
     "start_time": "2025-01-19T07:18:20.581819Z"
    }
   },
   "cell_type": "code",
   "source": [
    "g = torch.tensor([1., 3., 6.])\n",
    "G = torch.tensor([0., 3., 4.])\n",
    "\n",
    "torch.norm(g - G)**2 / torch.norm(G)**2"
   ],
   "id": "e504dd717efea7c8",
   "outputs": [
    {
     "data": {
      "text/plain": [
       "tensor(0.2000)"
      ]
     },
     "execution_count": 99,
     "metadata": {},
     "output_type": "execute_result"
    }
   ],
   "execution_count": 99
  },
  {
   "metadata": {
    "ExecuteTime": {
     "end_time": "2025-01-19T07:56:54.250133Z",
     "start_time": "2025-01-19T07:56:54.246460Z"
    }
   },
   "cell_type": "code",
   "source": "np.random.choice(np.arange(5), size=6)",
   "id": "c83dc19087c34b3",
   "outputs": [
    {
     "data": {
      "text/plain": [
       "array([3, 4, 3, 2, 0, 1])"
      ]
     },
     "execution_count": 11,
     "metadata": {},
     "output_type": "execute_result"
    }
   ],
   "execution_count": 11
  },
  {
   "metadata": {
    "ExecuteTime": {
     "end_time": "2025-01-19T07:56:14.394257Z",
     "start_time": "2025-01-19T07:56:14.389935Z"
    }
   },
   "cell_type": "code",
   "source": "np.arange(10)",
   "id": "a37502f9e38501fe",
   "outputs": [
    {
     "data": {
      "text/plain": [
       "array([0, 1, 2, 3, 4, 5, 6, 7, 8, 9])"
      ]
     },
     "execution_count": 6,
     "metadata": {},
     "output_type": "execute_result"
    }
   ],
   "execution_count": 6
  },
  {
   "metadata": {
    "ExecuteTime": {
     "end_time": "2025-01-19T08:01:31.276865Z",
     "start_time": "2025-01-19T08:01:31.258608Z"
    }
   },
   "cell_type": "code",
   "source": "np.random.choice(100, size=5, replace=False)",
   "id": "97ad0622800e243b",
   "outputs": [
    {
     "data": {
      "text/plain": [
       "array([27, 19, 31, 69, 71])"
      ]
     },
     "execution_count": 12,
     "metadata": {},
     "output_type": "execute_result"
    }
   ],
   "execution_count": 12
  },
  {
   "metadata": {
    "ExecuteTime": {
     "end_time": "2025-01-20T13:31:15.464901Z",
     "start_time": "2025-01-20T13:31:15.420576Z"
    }
   },
   "cell_type": "code",
   "source": "",
   "id": "30913b7569e4f614",
   "outputs": [
    {
     "data": {
      "text/plain": [
       "6"
      ]
     },
     "execution_count": 13,
     "metadata": {},
     "output_type": "execute_result"
    }
   ],
   "execution_count": 13
  },
  {
   "metadata": {
    "ExecuteTime": {
     "end_time": "2025-01-20T21:05:13.596027Z",
     "start_time": "2025-01-20T21:05:13.560403Z"
    }
   },
   "cell_type": "code",
   "source": "",
   "id": "ecb4824506b6584",
   "outputs": [],
   "execution_count": 14
  },
  {
   "metadata": {},
   "cell_type": "code",
   "outputs": [],
   "execution_count": null,
   "source": "",
   "id": "12eeba8ef65244a9"
  }
 ],
 "metadata": {
  "kernelspec": {
   "display_name": "Python 3",
   "language": "python",
   "name": "python3"
  },
  "language_info": {
   "codemirror_mode": {
    "name": "ipython",
    "version": 2
   },
   "file_extension": ".py",
   "mimetype": "text/x-python",
   "name": "python",
   "nbconvert_exporter": "python",
   "pygments_lexer": "ipython2",
   "version": "2.7.6"
  }
 },
 "nbformat": 4,
 "nbformat_minor": 5
}
