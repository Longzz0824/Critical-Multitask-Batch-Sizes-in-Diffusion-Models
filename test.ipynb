{
 "cells": [
  {
   "metadata": {
    "ExecuteTime": {
     "end_time": "2025-01-23T18:46:55.595726Z",
     "start_time": "2025-01-23T18:46:54.987644Z"
    }
   },
   "cell_type": "code",
   "source": [
    "import socket\n",
    "import os\n",
    "import pwd\n",
    "from datetime import datetime\n",
    "\n",
    "import numpy as np\n",
    "import pandas as pd\n",
    "import matplotlib.pyplot as plt"
   ],
   "id": "30913b7569e4f614",
   "outputs": [],
   "execution_count": 1
  },
  {
   "metadata": {
    "ExecuteTime": {
     "end_time": "2025-01-23T18:46:57.986600Z",
     "start_time": "2025-01-23T18:46:56.259490Z"
    }
   },
   "cell_type": "code",
   "source": [
    "start = datetime.now()\n",
    "\n",
    "from utils import log_to_dataframe\n",
    "\n",
    "csv_path = \"experiment_log.csv\"\n",
    "df = log_to_dataframe(csv_path, raw=True)\n",
    "df_meta, df_param, df_result = log_to_dataframe(csv_path)\n",
    "\n",
    "end = datetime.now()"
   ],
   "id": "25d784943cc0edeb",
   "outputs": [],
   "execution_count": 2
  },
  {
   "metadata": {
    "ExecuteTime": {
     "end_time": "2025-01-23T18:46:58.655720Z",
     "start_time": "2025-01-23T18:46:58.648940Z"
    }
   },
   "cell_type": "code",
   "source": "df_result",
   "id": "28a0cdb7c8b6d0d0",
   "outputs": [
    {
     "data": {
      "text/plain": [
       "    gns_est          runtime  t_min  t_max\n",
       "0  9.597502  00:02:46.377392    NaN    NaN"
      ],
      "text/html": [
       "<div>\n",
       "<style scoped>\n",
       "    .dataframe tbody tr th:only-of-type {\n",
       "        vertical-align: middle;\n",
       "    }\n",
       "\n",
       "    .dataframe tbody tr th {\n",
       "        vertical-align: top;\n",
       "    }\n",
       "\n",
       "    .dataframe thead th {\n",
       "        text-align: right;\n",
       "    }\n",
       "</style>\n",
       "<table border=\"1\" class=\"dataframe\">\n",
       "  <thead>\n",
       "    <tr style=\"text-align: right;\">\n",
       "      <th></th>\n",
       "      <th>gns_est</th>\n",
       "      <th>runtime</th>\n",
       "      <th>t_min</th>\n",
       "      <th>t_max</th>\n",
       "    </tr>\n",
       "  </thead>\n",
       "  <tbody>\n",
       "    <tr>\n",
       "      <th>0</th>\n",
       "      <td>9.597502</td>\n",
       "      <td>00:02:46.377392</td>\n",
       "      <td>NaN</td>\n",
       "      <td>NaN</td>\n",
       "    </tr>\n",
       "  </tbody>\n",
       "</table>\n",
       "</div>"
      ]
     },
     "execution_count": 3,
     "metadata": {},
     "output_type": "execute_result"
    }
   ],
   "execution_count": 3
  },
  {
   "metadata": {
    "ExecuteTime": {
     "end_time": "2025-01-23T18:47:21.243944Z",
     "start_time": "2025-01-23T18:47:21.231002Z"
    }
   },
   "cell_type": "code",
   "source": "df_meta",
   "id": "5748c9f48489f084",
   "outputs": [
    {
     "data": {
      "text/plain": [
       "                 date    user                   host       ckpt_dir  \\\n",
       "0 2025-01-23 16:52:14  cimsir  basalt.cip.ifi.lmu.de  ./checkpoints   \n",
       "\n",
       "     vis_dir  save_fig  accumulate  epoch  verbose  no_seed  no_warnings  \\\n",
       "0  ./visuals       NaN        True   True     True    False         True   \n",
       "\n",
       "           runtime  \n",
       "0  00:02:46.377392  "
      ],
      "text/html": [
       "<div>\n",
       "<style scoped>\n",
       "    .dataframe tbody tr th:only-of-type {\n",
       "        vertical-align: middle;\n",
       "    }\n",
       "\n",
       "    .dataframe tbody tr th {\n",
       "        vertical-align: top;\n",
       "    }\n",
       "\n",
       "    .dataframe thead th {\n",
       "        text-align: right;\n",
       "    }\n",
       "</style>\n",
       "<table border=\"1\" class=\"dataframe\">\n",
       "  <thead>\n",
       "    <tr style=\"text-align: right;\">\n",
       "      <th></th>\n",
       "      <th>date</th>\n",
       "      <th>user</th>\n",
       "      <th>host</th>\n",
       "      <th>ckpt_dir</th>\n",
       "      <th>vis_dir</th>\n",
       "      <th>save_fig</th>\n",
       "      <th>accumulate</th>\n",
       "      <th>epoch</th>\n",
       "      <th>verbose</th>\n",
       "      <th>no_seed</th>\n",
       "      <th>no_warnings</th>\n",
       "      <th>runtime</th>\n",
       "    </tr>\n",
       "  </thead>\n",
       "  <tbody>\n",
       "    <tr>\n",
       "      <th>0</th>\n",
       "      <td>2025-01-23 16:52:14</td>\n",
       "      <td>cimsir</td>\n",
       "      <td>basalt.cip.ifi.lmu.de</td>\n",
       "      <td>./checkpoints</td>\n",
       "      <td>./visuals</td>\n",
       "      <td>NaN</td>\n",
       "      <td>True</td>\n",
       "      <td>True</td>\n",
       "      <td>True</td>\n",
       "      <td>False</td>\n",
       "      <td>True</td>\n",
       "      <td>00:02:46.377392</td>\n",
       "    </tr>\n",
       "  </tbody>\n",
       "</table>\n",
       "</div>"
      ]
     },
     "execution_count": 4,
     "metadata": {},
     "output_type": "execute_result"
    }
   ],
   "execution_count": 4
  },
  {
   "metadata": {},
   "cell_type": "code",
   "outputs": [],
   "execution_count": null,
   "source": "",
   "id": "d699fdb2512ac60e"
  }
 ],
 "metadata": {
  "kernelspec": {
   "display_name": "Python 3",
   "language": "python",
   "name": "python3"
  },
  "language_info": {
   "codemirror_mode": {
    "name": "ipython",
    "version": 2
   },
   "file_extension": ".py",
   "mimetype": "text/x-python",
   "name": "python",
   "nbconvert_exporter": "python",
   "pygments_lexer": "ipython2",
   "version": "2.7.6"
  }
 },
 "nbformat": 4,
 "nbformat_minor": 5
}
