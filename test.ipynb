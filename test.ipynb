{
 "cells": [
  {
   "metadata": {
    "ExecuteTime": {
     "end_time": "2025-01-28T00:05:09.935782Z",
     "start_time": "2025-01-28T00:05:08.108972Z"
    }
   },
   "cell_type": "code",
   "source": [
    "import os\n",
    "import pandas as pd\n",
    "from pathlib import Path\n",
    "from gns_utils import prepare_expr_files, csv_log_to_dataframe\n",
    "\n",
    "EXPR_DIR = Path(\"gns_experiments\")\n",
    "CKPT_DIR = Path(\"checkpoints\")\n",
    "all_models = sorted(os.listdir(CKPT_DIR))\n",
    "all_models"
   ],
   "id": "30913b7569e4f614",
   "outputs": [
    {
     "data": {
      "text/plain": [
       "['0010000.pt', '0020000.pt', '0700000.pt', '0750000.pt']"
      ]
     },
     "execution_count": 1,
     "metadata": {},
     "output_type": "execute_result"
    }
   ],
   "execution_count": 1
  },
  {
   "metadata": {
    "ExecuteTime": {
     "end_time": "2025-01-28T00:05:11.974049Z",
     "start_time": "2025-01-28T00:05:11.968385Z"
    }
   },
   "cell_type": "code",
   "source": [
    "def compare_estimation_parameters(\n",
    "        name: str,\n",
    "        expr_dir: str,\n",
    "        models: [str],\n",
    "        Bb_ratio: int,\n",
    "        reps: int,\n",
    "        min_size: int,\n",
    "        max_size: int,\n",
    "        b_step: int,\n",
    "    ):\n",
    "    assert len(models) > 1, \"You must specify at least one model!\"\n",
    "    ## Process arguments and create .sh/.csv names\n",
    "    shell_name, csv_name, vis_dir = prepare_expr_files(expr_name=name, expr_dir=expr_dir)\n",
    "\n",
    "    ## Create experiment shells\n",
    "    expr_count = 0\n",
    "    for model in models:\n",
    "        ## Check if model exists\n",
    "        path = f\"{CKPT_DIR}/{model}\"\n",
    "        assert os.path.exists(path), f\"Checkpoint {path} does not exist!\"\n",
    "\n",
    "        ## Initialize set sizes (smallest)\n",
    "        b = min_size\n",
    "        B = Bb_ratio * b\n",
    "\n",
    "        ## Iterate over batch size values\n",
    "        while min_size <= b < B <= max_size:\n",
    "            ## Create experiment with given values\n",
    "            args = f\"-b {b} -B {B} -r {reps}\"\n",
    "            create_experiment_bash_with(args, model, bash_path=shell_name, csv_path=csv_name, vis_dir=vis_dir)\n",
    "            expr_count += 1\n",
    "            ## Set new batch size values\n",
    "            b += b_step\n",
    "            B = Bb_ratio * b\n",
    "\n",
    "    print(f\"{expr_count} experiments.\")\n",
    "    print(f\"Execute in the root-dir using GPUs:\")\n",
    "    print(\"------------------------------------------\\n\")"
   ],
   "id": "4eda2e7a12980958",
   "outputs": [],
   "execution_count": 2
  },
  {
   "metadata": {
    "ExecuteTime": {
     "end_time": "2025-01-28T00:05:12.824264Z",
     "start_time": "2025-01-28T00:05:12.777724Z"
    }
   },
   "cell_type": "code",
   "source": [
    "path = EXPR_DIR / \"1_true_grad_accuracy/results/\"\n",
    "files = [path / file for file in os.listdir(path)]\n",
    "df = pd.concat([csv_log_to_dataframe(file, raw=True) for file in files])"
   ],
   "id": "957a305b947ea432",
   "outputs": [
    {
     "name": "stderr",
     "output_type": "stream",
     "text": [
      "/Users/egecimsir/Desktop/GenAI Practical/Critical-Multitask-Batch-Sizes-in-Diffusion-Models/gns_utils.py:150: UserWarning: Could not infer format, so each element will be parsed individually, falling back to `dateutil`. To ensure parsing is consistent and as-expected, please specify a format.\n",
      "  df[\"runtime\"] = pd.to_datetime(df[\"runtime\"])\n"
     ]
    }
   ],
   "execution_count": 3
  },
  {
   "metadata": {
    "ExecuteTime": {
     "end_time": "2025-01-28T00:05:16.962209Z",
     "start_time": "2025-01-28T00:05:16.946253Z"
    }
   },
   "cell_type": "code",
   "source": "df",
   "id": "77c1a61507360ddf",
   "outputs": [
    {
     "data": {
      "text/plain": [
       "        model  true_portion  diff_steps    B   b  reps  t_min  t_max  \\\n",
       "0  0010000.pt           0.5        1000  500  50     5    NaN    NaN   \n",
       "0  0010000.pt           0.1        1000  500  50     5    NaN    NaN   \n",
       "1  0010000.pt           0.1        1000  500  50     5    NaN    NaN   \n",
       "0  0010000.pt           0.2        1000  500  50     5    NaN    NaN   \n",
       "\n",
       "   accumulate  epoch  ...     ckpt_dir  \\\n",
       "0        True  False  ...  checkpoints   \n",
       "0        True  False  ...  checkpoints   \n",
       "1        True  False  ...  checkpoints   \n",
       "0        True  False  ...  checkpoints   \n",
       "\n",
       "                                             vis_dir  save_fig  \\\n",
       "0  /home/c/cimsir/GenAI_Practical/gns_experiments...       NaN   \n",
       "0  /home/c/cimsir/GenAI_Practical/gns_experiments...       NaN   \n",
       "1  /home/c/cimsir/GenAI_Practical/gns_experiments...       NaN   \n",
       "0  /home/c/cimsir/GenAI_Practical/gns_experiments...       NaN   \n",
       "\n",
       "                 date    gns_est                           g_norm b_true  \\\n",
       "0 2025-01-28 00:26:58  12.470157                         1.033059  25000   \n",
       "0 2025-01-27 12:27:41   2.799724  tensor(1.0477, device='cuda:0')   5000   \n",
       "1 2025-01-27 23:22:52   0.735751               1.0329235792160034   5000   \n",
       "0 2025-01-27 23:32:32   1.958498                         1.032797  10000   \n",
       "\n",
       "           runtime    user                   host  \n",
       "0  00:06:17.515130  cimsir  basalt.cip.ifi.lmu.de  \n",
       "0  00:02:32.160207  cimsir  basalt.cip.ifi.lmu.de  \n",
       "1  00:01:56.101521  cimsir  basalt.cip.ifi.lmu.de  \n",
       "0  00:03:02.227157  cimsir  basalt.cip.ifi.lmu.de  \n",
       "\n",
       "[4 rows x 23 columns]"
      ],
      "text/html": [
       "<div>\n",
       "<style scoped>\n",
       "    .dataframe tbody tr th:only-of-type {\n",
       "        vertical-align: middle;\n",
       "    }\n",
       "\n",
       "    .dataframe tbody tr th {\n",
       "        vertical-align: top;\n",
       "    }\n",
       "\n",
       "    .dataframe thead th {\n",
       "        text-align: right;\n",
       "    }\n",
       "</style>\n",
       "<table border=\"1\" class=\"dataframe\">\n",
       "  <thead>\n",
       "    <tr style=\"text-align: right;\">\n",
       "      <th></th>\n",
       "      <th>model</th>\n",
       "      <th>true_portion</th>\n",
       "      <th>diff_steps</th>\n",
       "      <th>B</th>\n",
       "      <th>b</th>\n",
       "      <th>reps</th>\n",
       "      <th>t_min</th>\n",
       "      <th>t_max</th>\n",
       "      <th>accumulate</th>\n",
       "      <th>epoch</th>\n",
       "      <th>...</th>\n",
       "      <th>ckpt_dir</th>\n",
       "      <th>vis_dir</th>\n",
       "      <th>save_fig</th>\n",
       "      <th>date</th>\n",
       "      <th>gns_est</th>\n",
       "      <th>g_norm</th>\n",
       "      <th>b_true</th>\n",
       "      <th>runtime</th>\n",
       "      <th>user</th>\n",
       "      <th>host</th>\n",
       "    </tr>\n",
       "  </thead>\n",
       "  <tbody>\n",
       "    <tr>\n",
       "      <th>0</th>\n",
       "      <td>0010000.pt</td>\n",
       "      <td>0.5</td>\n",
       "      <td>1000</td>\n",
       "      <td>500</td>\n",
       "      <td>50</td>\n",
       "      <td>5</td>\n",
       "      <td>NaN</td>\n",
       "      <td>NaN</td>\n",
       "      <td>True</td>\n",
       "      <td>False</td>\n",
       "      <td>...</td>\n",
       "      <td>checkpoints</td>\n",
       "      <td>/home/c/cimsir/GenAI_Practical/gns_experiments...</td>\n",
       "      <td>NaN</td>\n",
       "      <td>2025-01-28 00:26:58</td>\n",
       "      <td>12.470157</td>\n",
       "      <td>1.033059</td>\n",
       "      <td>25000</td>\n",
       "      <td>00:06:17.515130</td>\n",
       "      <td>cimsir</td>\n",
       "      <td>basalt.cip.ifi.lmu.de</td>\n",
       "    </tr>\n",
       "    <tr>\n",
       "      <th>0</th>\n",
       "      <td>0010000.pt</td>\n",
       "      <td>0.1</td>\n",
       "      <td>1000</td>\n",
       "      <td>500</td>\n",
       "      <td>50</td>\n",
       "      <td>5</td>\n",
       "      <td>NaN</td>\n",
       "      <td>NaN</td>\n",
       "      <td>True</td>\n",
       "      <td>False</td>\n",
       "      <td>...</td>\n",
       "      <td>checkpoints</td>\n",
       "      <td>/home/c/cimsir/GenAI_Practical/gns_experiments...</td>\n",
       "      <td>NaN</td>\n",
       "      <td>2025-01-27 12:27:41</td>\n",
       "      <td>2.799724</td>\n",
       "      <td>tensor(1.0477, device='cuda:0')</td>\n",
       "      <td>5000</td>\n",
       "      <td>00:02:32.160207</td>\n",
       "      <td>cimsir</td>\n",
       "      <td>basalt.cip.ifi.lmu.de</td>\n",
       "    </tr>\n",
       "    <tr>\n",
       "      <th>1</th>\n",
       "      <td>0010000.pt</td>\n",
       "      <td>0.1</td>\n",
       "      <td>1000</td>\n",
       "      <td>500</td>\n",
       "      <td>50</td>\n",
       "      <td>5</td>\n",
       "      <td>NaN</td>\n",
       "      <td>NaN</td>\n",
       "      <td>True</td>\n",
       "      <td>False</td>\n",
       "      <td>...</td>\n",
       "      <td>checkpoints</td>\n",
       "      <td>/home/c/cimsir/GenAI_Practical/gns_experiments...</td>\n",
       "      <td>NaN</td>\n",
       "      <td>2025-01-27 23:22:52</td>\n",
       "      <td>0.735751</td>\n",
       "      <td>1.0329235792160034</td>\n",
       "      <td>5000</td>\n",
       "      <td>00:01:56.101521</td>\n",
       "      <td>cimsir</td>\n",
       "      <td>basalt.cip.ifi.lmu.de</td>\n",
       "    </tr>\n",
       "    <tr>\n",
       "      <th>0</th>\n",
       "      <td>0010000.pt</td>\n",
       "      <td>0.2</td>\n",
       "      <td>1000</td>\n",
       "      <td>500</td>\n",
       "      <td>50</td>\n",
       "      <td>5</td>\n",
       "      <td>NaN</td>\n",
       "      <td>NaN</td>\n",
       "      <td>True</td>\n",
       "      <td>False</td>\n",
       "      <td>...</td>\n",
       "      <td>checkpoints</td>\n",
       "      <td>/home/c/cimsir/GenAI_Practical/gns_experiments...</td>\n",
       "      <td>NaN</td>\n",
       "      <td>2025-01-27 23:32:32</td>\n",
       "      <td>1.958498</td>\n",
       "      <td>1.032797</td>\n",
       "      <td>10000</td>\n",
       "      <td>00:03:02.227157</td>\n",
       "      <td>cimsir</td>\n",
       "      <td>basalt.cip.ifi.lmu.de</td>\n",
       "    </tr>\n",
       "  </tbody>\n",
       "</table>\n",
       "<p>4 rows × 23 columns</p>\n",
       "</div>"
      ]
     },
     "execution_count": 4,
     "metadata": {},
     "output_type": "execute_result"
    }
   ],
   "execution_count": 4
  },
  {
   "metadata": {},
   "cell_type": "code",
   "outputs": [],
   "execution_count": null,
   "source": "",
   "id": "a9ea8673ed3e150c"
  }
 ],
 "metadata": {
  "kernelspec": {
   "display_name": "Python 3",
   "language": "python",
   "name": "python3"
  },
  "language_info": {
   "codemirror_mode": {
    "name": "ipython",
    "version": 2
   },
   "file_extension": ".py",
   "mimetype": "text/x-python",
   "name": "python",
   "nbconvert_exporter": "python",
   "pygments_lexer": "ipython2",
   "version": "2.7.6"
  }
 },
 "nbformat": 4,
 "nbformat_minor": 5
}
